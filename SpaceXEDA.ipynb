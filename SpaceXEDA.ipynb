{
 "cells": [
  {
   "cell_type": "code",
   "execution_count": 1,
   "id": "628c47ea",
   "metadata": {},
   "outputs": [],
   "source": [
    "import pandas as pd\n",
    "#df = pd.read_csv(\"https://cf-courses-data.s3.us.cloud-object-storage.appdomain.cloud/IBM-DS0321EN-SkillsNetwork/labs/module_2/data/Spacex.csv\")\n",
    "#df.to_sql(\"SPACEXTBL\", con, if_exists='replace', index=False,method=\"multi\")\n",
    "df = pd.read_csv(r\"C:\\Users\\infop\\OneDrive\\Desktop\\ML_lab screenshots\\spacex_final_dataset.csv\")"
   ]
  },
  {
   "cell_type": "code",
   "execution_count": 2,
   "id": "c129b31a",
   "metadata": {
    "scrolled": true
   },
   "outputs": [
    {
     "data": {
      "text/html": [
       "<div>\n",
       "<style scoped>\n",
       "    .dataframe tbody tr th:only-of-type {\n",
       "        vertical-align: middle;\n",
       "    }\n",
       "\n",
       "    .dataframe tbody tr th {\n",
       "        vertical-align: top;\n",
       "    }\n",
       "\n",
       "    .dataframe thead th {\n",
       "        text-align: right;\n",
       "    }\n",
       "</style>\n",
       "<table border=\"1\" class=\"dataframe\">\n",
       "  <thead>\n",
       "    <tr style=\"text-align: right;\">\n",
       "      <th></th>\n",
       "      <th>FlightNumber</th>\n",
       "      <th>Date</th>\n",
       "      <th>Customer</th>\n",
       "      <th>Booster</th>\n",
       "      <th>Version_Booster</th>\n",
       "      <th>Payload</th>\n",
       "      <th>PayloadMass</th>\n",
       "      <th>LaunchSite</th>\n",
       "      <th>Orbit</th>\n",
       "      <th>Flights</th>\n",
       "      <th>...</th>\n",
       "      <th>Reused</th>\n",
       "      <th>GridFins</th>\n",
       "      <th>Legs</th>\n",
       "      <th>Longitude</th>\n",
       "      <th>Latitude</th>\n",
       "      <th>Outcome</th>\n",
       "      <th>Booster_Landing</th>\n",
       "      <th>Class_verification</th>\n",
       "      <th>Class</th>\n",
       "      <th>Failure</th>\n",
       "    </tr>\n",
       "  </thead>\n",
       "  <tbody>\n",
       "    <tr>\n",
       "      <th>0</th>\n",
       "      <td>6</td>\n",
       "      <td>2010-06-04</td>\n",
       "      <td>SpaceX</td>\n",
       "      <td>Falcon 9</td>\n",
       "      <td>F9 v1.0</td>\n",
       "      <td>Dragon Spacecraft Qualification Unit</td>\n",
       "      <td>8191</td>\n",
       "      <td>Cape Canaveral</td>\n",
       "      <td>LEO</td>\n",
       "      <td>1</td>\n",
       "      <td>...</td>\n",
       "      <td>0</td>\n",
       "      <td>0</td>\n",
       "      <td>0</td>\n",
       "      <td>-80.577366</td>\n",
       "      <td>28.561857</td>\n",
       "      <td>Failure (None)</td>\n",
       "      <td>Failure</td>\n",
       "      <td>0.0</td>\n",
       "      <td>0</td>\n",
       "      <td>1</td>\n",
       "    </tr>\n",
       "    <tr>\n",
       "      <th>1</th>\n",
       "      <td>8</td>\n",
       "      <td>2012-05-22</td>\n",
       "      <td>NASA</td>\n",
       "      <td>Falcon 9</td>\n",
       "      <td>F9 v1.0</td>\n",
       "      <td>SpaceX COTS Demo Flight 2</td>\n",
       "      <td>525</td>\n",
       "      <td>Cape Canaveral</td>\n",
       "      <td>LEO</td>\n",
       "      <td>1</td>\n",
       "      <td>...</td>\n",
       "      <td>0</td>\n",
       "      <td>0</td>\n",
       "      <td>0</td>\n",
       "      <td>-80.577366</td>\n",
       "      <td>28.561857</td>\n",
       "      <td>Failure (None)</td>\n",
       "      <td>No attempt\\n</td>\n",
       "      <td>0.0</td>\n",
       "      <td>0</td>\n",
       "      <td>1</td>\n",
       "    </tr>\n",
       "    <tr>\n",
       "      <th>2</th>\n",
       "      <td>10</td>\n",
       "      <td>2013-03-01</td>\n",
       "      <td>NASA</td>\n",
       "      <td>Falcon 9</td>\n",
       "      <td>F9 v1.0</td>\n",
       "      <td>SpaceX CRS-2</td>\n",
       "      <td>677</td>\n",
       "      <td>Cape Canaveral</td>\n",
       "      <td>ISS</td>\n",
       "      <td>1</td>\n",
       "      <td>...</td>\n",
       "      <td>0</td>\n",
       "      <td>0</td>\n",
       "      <td>0</td>\n",
       "      <td>-80.577366</td>\n",
       "      <td>28.561857</td>\n",
       "      <td>Failure (None)</td>\n",
       "      <td>No attempt\\n</td>\n",
       "      <td>0.0</td>\n",
       "      <td>0</td>\n",
       "      <td>1</td>\n",
       "    </tr>\n",
       "    <tr>\n",
       "      <th>3</th>\n",
       "      <td>11</td>\n",
       "      <td>2013-09-29</td>\n",
       "      <td>MDA</td>\n",
       "      <td>Falcon 9</td>\n",
       "      <td>F9 v1.1</td>\n",
       "      <td>CASSIOPE</td>\n",
       "      <td>500</td>\n",
       "      <td>Vandenberg AF Base</td>\n",
       "      <td>PO</td>\n",
       "      <td>1</td>\n",
       "      <td>...</td>\n",
       "      <td>0</td>\n",
       "      <td>0</td>\n",
       "      <td>0</td>\n",
       "      <td>-120.610829</td>\n",
       "      <td>34.632093</td>\n",
       "      <td>Failure (Ocean)</td>\n",
       "      <td>Uncontrolled</td>\n",
       "      <td>0.0</td>\n",
       "      <td>0</td>\n",
       "      <td>1</td>\n",
       "    </tr>\n",
       "    <tr>\n",
       "      <th>4</th>\n",
       "      <td>12</td>\n",
       "      <td>2013-12-03</td>\n",
       "      <td>SES</td>\n",
       "      <td>Falcon 9</td>\n",
       "      <td>F9 v1.1</td>\n",
       "      <td>SES-8</td>\n",
       "      <td>3170</td>\n",
       "      <td>Cape Canaveral</td>\n",
       "      <td>GTO</td>\n",
       "      <td>1</td>\n",
       "      <td>...</td>\n",
       "      <td>0</td>\n",
       "      <td>0</td>\n",
       "      <td>0</td>\n",
       "      <td>-80.577366</td>\n",
       "      <td>28.561857</td>\n",
       "      <td>Failure (None)</td>\n",
       "      <td>No attempt</td>\n",
       "      <td>0.0</td>\n",
       "      <td>0</td>\n",
       "      <td>1</td>\n",
       "    </tr>\n",
       "    <tr>\n",
       "      <th>...</th>\n",
       "      <td>...</td>\n",
       "      <td>...</td>\n",
       "      <td>...</td>\n",
       "      <td>...</td>\n",
       "      <td>...</td>\n",
       "      <td>...</td>\n",
       "      <td>...</td>\n",
       "      <td>...</td>\n",
       "      <td>...</td>\n",
       "      <td>...</td>\n",
       "      <td>...</td>\n",
       "      <td>...</td>\n",
       "      <td>...</td>\n",
       "      <td>...</td>\n",
       "      <td>...</td>\n",
       "      <td>...</td>\n",
       "      <td>...</td>\n",
       "      <td>...</td>\n",
       "      <td>...</td>\n",
       "      <td>...</td>\n",
       "      <td>...</td>\n",
       "    </tr>\n",
       "    <tr>\n",
       "      <th>163</th>\n",
       "      <td>182</td>\n",
       "      <td>2022-08-31</td>\n",
       "      <td>SpaceX</td>\n",
       "      <td>Falcon 9</td>\n",
       "      <td>F9 B5</td>\n",
       "      <td>Starlink Group 3-4</td>\n",
       "      <td>13260</td>\n",
       "      <td>Vandenberg AF Base</td>\n",
       "      <td>VLEO</td>\n",
       "      <td>7</td>\n",
       "      <td>...</td>\n",
       "      <td>1</td>\n",
       "      <td>1</td>\n",
       "      <td>1</td>\n",
       "      <td>-120.610829</td>\n",
       "      <td>34.632093</td>\n",
       "      <td>Success (Drone Ship)</td>\n",
       "      <td>Success</td>\n",
       "      <td>1.0</td>\n",
       "      <td>1</td>\n",
       "      <td>0</td>\n",
       "    </tr>\n",
       "    <tr>\n",
       "      <th>164</th>\n",
       "      <td>185</td>\n",
       "      <td>2022-09-17</td>\n",
       "      <td>SpaceX</td>\n",
       "      <td>Falcon 9</td>\n",
       "      <td>F9 B1067.6</td>\n",
       "      <td>Starlink</td>\n",
       "      <td>13260</td>\n",
       "      <td>Cape Canaveral</td>\n",
       "      <td>VLEO</td>\n",
       "      <td>6</td>\n",
       "      <td>...</td>\n",
       "      <td>1</td>\n",
       "      <td>1</td>\n",
       "      <td>1</td>\n",
       "      <td>-80.577366</td>\n",
       "      <td>28.561857</td>\n",
       "      <td>Success (Drone Ship)</td>\n",
       "      <td>NaN</td>\n",
       "      <td>1.0</td>\n",
       "      <td>1</td>\n",
       "      <td>0</td>\n",
       "    </tr>\n",
       "    <tr>\n",
       "      <th>165</th>\n",
       "      <td>186</td>\n",
       "      <td>2022-09-24</td>\n",
       "      <td>SpaceX</td>\n",
       "      <td>Falcon 9</td>\n",
       "      <td>F9 B5B1073.4</td>\n",
       "      <td>Starlink Group 4-35</td>\n",
       "      <td>13260</td>\n",
       "      <td>Cape Canaveral</td>\n",
       "      <td>VLEO</td>\n",
       "      <td>4</td>\n",
       "      <td>...</td>\n",
       "      <td>1</td>\n",
       "      <td>1</td>\n",
       "      <td>1</td>\n",
       "      <td>-80.577366</td>\n",
       "      <td>28.561857</td>\n",
       "      <td>Success (Drone Ship)</td>\n",
       "      <td>Success</td>\n",
       "      <td>1.0</td>\n",
       "      <td>1</td>\n",
       "      <td>0</td>\n",
       "    </tr>\n",
       "    <tr>\n",
       "      <th>166</th>\n",
       "      <td>187</td>\n",
       "      <td>2022-10-05</td>\n",
       "      <td>NASA</td>\n",
       "      <td>Falcon 9</td>\n",
       "      <td>F9 B5</td>\n",
       "      <td>Crew-5</td>\n",
       "      <td>8191</td>\n",
       "      <td>Kennedy Space Center</td>\n",
       "      <td>ISS</td>\n",
       "      <td>1</td>\n",
       "      <td>...</td>\n",
       "      <td>0</td>\n",
       "      <td>1</td>\n",
       "      <td>1</td>\n",
       "      <td>-80.603956</td>\n",
       "      <td>28.608058</td>\n",
       "      <td>Success (Drone Ship)</td>\n",
       "      <td>Success</td>\n",
       "      <td>1.0</td>\n",
       "      <td>1</td>\n",
       "      <td>0</td>\n",
       "    </tr>\n",
       "    <tr>\n",
       "      <th>167</th>\n",
       "      <td>187</td>\n",
       "      <td>2022-10-05</td>\n",
       "      <td>SpaceX</td>\n",
       "      <td>Falcon 9</td>\n",
       "      <td>F9 B5</td>\n",
       "      <td>Starlink Group 4-29</td>\n",
       "      <td>8191</td>\n",
       "      <td>Kennedy Space Center</td>\n",
       "      <td>ISS</td>\n",
       "      <td>1</td>\n",
       "      <td>...</td>\n",
       "      <td>0</td>\n",
       "      <td>1</td>\n",
       "      <td>1</td>\n",
       "      <td>-80.603956</td>\n",
       "      <td>28.608058</td>\n",
       "      <td>Success (Drone Ship)</td>\n",
       "      <td>Success</td>\n",
       "      <td>1.0</td>\n",
       "      <td>1</td>\n",
       "      <td>0</td>\n",
       "    </tr>\n",
       "  </tbody>\n",
       "</table>\n",
       "<p>168 rows × 21 columns</p>\n",
       "</div>"
      ],
      "text/plain": [
       "     FlightNumber        Date Customer   Booster Version_Booster  \\\n",
       "0               6  2010-06-04   SpaceX  Falcon 9        F9 v1.0    \n",
       "1               8  2012-05-22     NASA  Falcon 9        F9 v1.0    \n",
       "2              10  2013-03-01     NASA  Falcon 9        F9 v1.0    \n",
       "3              11  2013-09-29      MDA  Falcon 9        F9 v1.1    \n",
       "4              12  2013-12-03      SES  Falcon 9         F9 v1.1   \n",
       "..            ...         ...      ...       ...             ...   \n",
       "163           182  2022-08-31   SpaceX  Falcon 9           F9 B5   \n",
       "164           185  2022-09-17   SpaceX  Falcon 9      F9 B1067.6   \n",
       "165           186  2022-09-24   SpaceX  Falcon 9    F9 B5B1073.4   \n",
       "166           187  2022-10-05     NASA  Falcon 9           F9 B5   \n",
       "167           187  2022-10-05   SpaceX  Falcon 9           F9 B5   \n",
       "\n",
       "                                  Payload  PayloadMass            LaunchSite  \\\n",
       "0    Dragon Spacecraft Qualification Unit         8191        Cape Canaveral   \n",
       "1               SpaceX COTS Demo Flight 2          525        Cape Canaveral   \n",
       "2                            SpaceX CRS-2          677        Cape Canaveral   \n",
       "3                                CASSIOPE          500    Vandenberg AF Base   \n",
       "4                                   SES-8         3170        Cape Canaveral   \n",
       "..                                    ...          ...                   ...   \n",
       "163                    Starlink Group 3-4        13260    Vandenberg AF Base   \n",
       "164                              Starlink        13260        Cape Canaveral   \n",
       "165                   Starlink Group 4-35        13260        Cape Canaveral   \n",
       "166                                Crew-5         8191  Kennedy Space Center   \n",
       "167                   Starlink Group 4-29         8191  Kennedy Space Center   \n",
       "\n",
       "    Orbit  Flights  ...  Reused  GridFins  Legs   Longitude   Latitude  \\\n",
       "0     LEO        1  ...       0         0     0  -80.577366  28.561857   \n",
       "1     LEO        1  ...       0         0     0  -80.577366  28.561857   \n",
       "2     ISS        1  ...       0         0     0  -80.577366  28.561857   \n",
       "3      PO        1  ...       0         0     0 -120.610829  34.632093   \n",
       "4     GTO        1  ...       0         0     0  -80.577366  28.561857   \n",
       "..    ...      ...  ...     ...       ...   ...         ...        ...   \n",
       "163  VLEO        7  ...       1         1     1 -120.610829  34.632093   \n",
       "164  VLEO        6  ...       1         1     1  -80.577366  28.561857   \n",
       "165  VLEO        4  ...       1         1     1  -80.577366  28.561857   \n",
       "166   ISS        1  ...       0         1     1  -80.603956  28.608058   \n",
       "167   ISS        1  ...       0         1     1  -80.603956  28.608058   \n",
       "\n",
       "                  Outcome Booster_Landing Class_verification  Class  Failure  \n",
       "0          Failure (None)         Failure                0.0      0        1  \n",
       "1          Failure (None)    No attempt\\n                0.0      0        1  \n",
       "2          Failure (None)    No attempt\\n                0.0      0        1  \n",
       "3         Failure (Ocean)    Uncontrolled                0.0      0        1  \n",
       "4          Failure (None)      No attempt                0.0      0        1  \n",
       "..                    ...             ...                ...    ...      ...  \n",
       "163  Success (Drone Ship)         Success                1.0      1        0  \n",
       "164  Success (Drone Ship)             NaN                1.0      1        0  \n",
       "165  Success (Drone Ship)         Success                1.0      1        0  \n",
       "166  Success (Drone Ship)         Success                1.0      1        0  \n",
       "167  Success (Drone Ship)         Success                1.0      1        0  \n",
       "\n",
       "[168 rows x 21 columns]"
      ]
     },
     "execution_count": 2,
     "metadata": {},
     "output_type": "execute_result"
    }
   ],
   "source": [
    "df"
   ]
  },
  {
   "cell_type": "code",
   "execution_count": 3,
   "id": "64541414",
   "metadata": {},
   "outputs": [],
   "source": [
    "import seaborn as sns"
   ]
  },
  {
   "cell_type": "code",
   "execution_count": 4,
   "id": "ca12252f",
   "metadata": {},
   "outputs": [
    {
     "data": {
      "text/plain": [
       "<AxesSubplot:xlabel='FlightNumber', ylabel='LaunchSite'>"
      ]
     },
     "execution_count": 4,
     "metadata": {},
     "output_type": "execute_result"
    },
    {
     "data": {
      "image/png": "[encoded data removed]",
      "text/plain": [
       "<Figure size 432x288 with 1 Axes>"
      ]
     },
     "metadata": {
      "needs_background": "light"
     },
     "output_type": "display_data"
    }
   ],
   "source": [
    "sns.scatterplot(data=df, x=\"FlightNumber\", y=\"LaunchSite\")"
   ]
  },
  {
   "cell_type": "code",
   "execution_count": 5,
   "id": "3f4c44eb",
   "metadata": {},
   "outputs": [
    {
     "data": {
      "text/plain": [
       "<AxesSubplot:xlabel='LaunchSite', ylabel='PayloadMass'>"
      ]
     },
     "execution_count": 5,
     "metadata": {},
     "output_type": "execute_result"
    },
    {
     "data": {
      "image/png": "[encoded data removed]",
      "text/plain": [
       "<Figure size 432x288 with 1 Axes>"
      ]
     },
     "metadata": {
      "needs_background": "light"
     },
     "output_type": "display_data"
    }
   ],
   "source": [
    "sns.scatterplot(data=df, x=\"LaunchSite\", y=\"PayloadMass\")"
   ]
  },
  {
   "cell_type": "code",
   "execution_count": 6,
   "id": "ff5a7378",
   "metadata": {},
   "outputs": [],
   "source": [
    "#bar chart for the success rate of each orbit type\n",
    "orbits_success_rates = df.groupby(['Orbit'])['Class'].agg(['mean'])*100\n",
    "orbits_success_rates.reset_index(inplace=True)\n",
    "orbits_success_rates\n",
    "orbits_success_rates = orbits_success_rates.sort_values(by='mean', ascending= False)"
   ]
  },
  {
   "cell_type": "code",
   "execution_count": 7,
   "id": "72584fa7",
   "metadata": {},
   "outputs": [
    {
     "data": {
      "text/plain": [
       "<AxesSubplot:xlabel='Orbit', ylabel='mean'>"
      ]
     },
     "execution_count": 7,
     "metadata": {},
     "output_type": "execute_result"
    },
    {
     "data": {
      "image/png": "[encoded data removed]",
      "text/plain": [
       "<Figure size 432x288 with 1 Axes>"
      ]
     },
     "metadata": {
      "needs_background": "light"
     },
     "output_type": "display_data"
    }
   ],
   "source": [
    "sns.barplot(data=orbits_success_rates, x=\"Orbit\", y=\"mean\")"
   ]
  },
  {
   "cell_type": "code",
   "execution_count": 8,
   "id": "1fdcc2db",
   "metadata": {},
   "outputs": [
    {
     "data": {
      "text/plain": [
       "<AxesSubplot:xlabel='Orbit', ylabel='FlightNumber'>"
      ]
     },
     "execution_count": 8,
     "metadata": {},
     "output_type": "execute_result"
    },
    {
     "data": {
      "image/png": "[encoded data removed]",
      "text/plain": [
       "<Figure size 432x288 with 1 Axes>"
      ]
     },
     "metadata": {
      "needs_background": "light"
     },
     "output_type": "display_data"
    }
   ],
   "source": [
    "sns.scatterplot(data=df, x=\"Orbit\", y=\"FlightNumber\")"
   ]
  },
  {
   "cell_type": "code",
   "execution_count": 9,
   "id": "44f77824",
   "metadata": {},
   "outputs": [
    {
     "data": {
      "text/plain": [
       "array([  6,   8,  10,  11,  12,  13,  14,  15,  16,  17,  18,  19,  20,\n",
       "        22,  23,  24,  25,  26,  27,  28,  29,  30,  32,  33,  34,  35,\n",
       "        36,  37,  38,  39,  40,  41,  42,  43,  44,  45,  46,  47,  48,\n",
       "        49,  50,  51,  52,  53,  54,  57,  58,  59,  60,  61,  63,  64,\n",
       "        65,  66,  67,  68,  69,  70,  71,  72,  73,  74,  76,  78,  79,\n",
       "        80,  82,  83,  84,  85,  86,  87,  88,  89,  90,  91,  92,  93,\n",
       "        94,  95,  96,  97,  98, 100, 101, 102, 103, 104, 105, 106, 107,\n",
       "       108, 109, 110, 111, 112, 113, 114, 115, 116, 117, 118, 119, 120,\n",
       "       121, 122, 123, 124, 125, 126, 128, 129, 130, 131, 132, 133, 134,\n",
       "       135, 136, 137, 138, 139, 140, 141, 142, 143, 144, 145, 146, 147,\n",
       "       148, 149, 150, 151, 152, 153, 154, 155, 156, 157, 158, 159, 160,\n",
       "       161, 162, 163, 164, 165, 166, 168, 169, 170, 171, 172, 173, 174,\n",
       "       175, 176, 177, 178, 179, 180, 181, 182, 185, 186, 187], dtype=int64)"
      ]
     },
     "execution_count": 9,
     "metadata": {},
     "output_type": "execute_result"
    }
   ],
   "source": [
    "df['FlightNumber'].unique()"
   ]
  },
  {
   "cell_type": "code",
   "execution_count": 10,
   "id": "57e5559f",
   "metadata": {},
   "outputs": [
    {
     "data": {
      "text/plain": [
       "<AxesSubplot:xlabel='Orbit', ylabel='PayloadMass'>"
      ]
     },
     "execution_count": 10,
     "metadata": {},
     "output_type": "execute_result"
    },
    {
     "data": {
      "image/png": "[encoded data removed]",
      "text/plain": [
       "<Figure size 432x288 with 1 Axes>"
      ]
     },
     "metadata": {
      "needs_background": "light"
     },
     "output_type": "display_data"
    }
   ],
   "source": [
    "sns.scatterplot(data=df, x=\"Orbit\", y=\"PayloadMass\")"
   ]
  },
  {
   "cell_type": "code",
   "execution_count": null,
   "id": "49afd3ac",
   "metadata": {},
   "outputs": [],
   "source": []
  },
  {
   "cell_type": "raw",
   "id": "633f4244",
   "metadata": {},
   "source": [
    "#get just year from pandas column Date to make Year column, then groupby year"
   ]
  },
  {
   "cell_type": "code",
   "execution_count": 11,
   "id": "a01be342",
   "metadata": {},
   "outputs": [],
   "source": [
    "#Show a line chart of yearly average success rate\n",
    "df['Year'] = df['Date'].apply(lambda x: x.split('-')[0])"
   ]
  },
  {
   "cell_type": "code",
   "execution_count": 12,
   "id": "0c4e263b",
   "metadata": {},
   "outputs": [
    {
     "data": {
      "text/html": [
       "<div>\n",
       "<style scoped>\n",
       "    .dataframe tbody tr th:only-of-type {\n",
       "        vertical-align: middle;\n",
       "    }\n",
       "\n",
       "    .dataframe tbody tr th {\n",
       "        vertical-align: top;\n",
       "    }\n",
       "\n",
       "    .dataframe thead th {\n",
       "        text-align: right;\n",
       "    }\n",
       "</style>\n",
       "<table border=\"1\" class=\"dataframe\">\n",
       "  <thead>\n",
       "    <tr style=\"text-align: right;\">\n",
       "      <th></th>\n",
       "      <th>Year</th>\n",
       "      <th>mean</th>\n",
       "    </tr>\n",
       "  </thead>\n",
       "  <tbody>\n",
       "    <tr>\n",
       "      <th>0</th>\n",
       "      <td>2010</td>\n",
       "      <td>0.000000</td>\n",
       "    </tr>\n",
       "    <tr>\n",
       "      <th>1</th>\n",
       "      <td>2012</td>\n",
       "      <td>0.000000</td>\n",
       "    </tr>\n",
       "    <tr>\n",
       "      <th>2</th>\n",
       "      <td>2013</td>\n",
       "      <td>0.000000</td>\n",
       "    </tr>\n",
       "    <tr>\n",
       "      <th>3</th>\n",
       "      <td>2014</td>\n",
       "      <td>0.000000</td>\n",
       "    </tr>\n",
       "    <tr>\n",
       "      <th>4</th>\n",
       "      <td>2015</td>\n",
       "      <td>16.666667</td>\n",
       "    </tr>\n",
       "    <tr>\n",
       "      <th>5</th>\n",
       "      <td>2016</td>\n",
       "      <td>62.500000</td>\n",
       "    </tr>\n",
       "    <tr>\n",
       "      <th>6</th>\n",
       "      <td>2017</td>\n",
       "      <td>77.777778</td>\n",
       "    </tr>\n",
       "    <tr>\n",
       "      <th>7</th>\n",
       "      <td>2018</td>\n",
       "      <td>61.111111</td>\n",
       "    </tr>\n",
       "    <tr>\n",
       "      <th>8</th>\n",
       "      <td>2019</td>\n",
       "      <td>90.000000</td>\n",
       "    </tr>\n",
       "    <tr>\n",
       "      <th>9</th>\n",
       "      <td>2020</td>\n",
       "      <td>88.000000</td>\n",
       "    </tr>\n",
       "    <tr>\n",
       "      <th>10</th>\n",
       "      <td>2021</td>\n",
       "      <td>96.666667</td>\n",
       "    </tr>\n",
       "    <tr>\n",
       "      <th>11</th>\n",
       "      <td>2022</td>\n",
       "      <td>100.000000</td>\n",
       "    </tr>\n",
       "  </tbody>\n",
       "</table>\n",
       "</div>"
      ],
      "text/plain": [
       "    Year        mean\n",
       "0   2010    0.000000\n",
       "1   2012    0.000000\n",
       "2   2013    0.000000\n",
       "3   2014    0.000000\n",
       "4   2015   16.666667\n",
       "5   2016   62.500000\n",
       "6   2017   77.777778\n",
       "7   2018   61.111111\n",
       "8   2019   90.000000\n",
       "9   2020   88.000000\n",
       "10  2021   96.666667\n",
       "11  2022  100.000000"
      ]
     },
     "execution_count": 12,
     "metadata": {},
     "output_type": "execute_result"
    }
   ],
   "source": [
    "yearly_success_rates = df.groupby(['Year'])['Class'].agg(['mean'])*100\n",
    "yearly_success_rates.reset_index(inplace=True)\n",
    "yearly_success_rates"
   ]
  },
  {
   "cell_type": "code",
   "execution_count": 13,
   "id": "d756a7f1",
   "metadata": {},
   "outputs": [
    {
     "data": {
      "text/plain": [
       "<AxesSubplot:xlabel='Year', ylabel='mean'>"
      ]
     },
     "execution_count": 13,
     "metadata": {},
     "output_type": "execute_result"
    },
    {
     "data": {
      "image/png": "[encoded data removed]",
      "text/plain": [
       "<Figure size 432x288 with 1 Axes>"
      ]
     },
     "metadata": {
      "needs_background": "light"
     },
     "output_type": "display_data"
    }
   ],
   "source": [
    "sns.lineplot(data=yearly_success_rates, x=\"Year\", y=\"mean\")"
   ]
  },
  {
   "cell_type": "code",
   "execution_count": null,
   "id": "e0618b3f",
   "metadata": {},
   "outputs": [],
   "source": []
  }
 ],
 "metadata": {
  "kernelspec": {
   "display_name": "Python 3 (ipykernel)",
   "language": "python",
   "name": "python3"
  },
  "language_info": {
   "codemirror_mode": {
    "name": "ipython",
    "version": 3
   },
   "file_extension": ".py",
   "mimetype": "text/x-python",
   "name": "python",
   "nbconvert_exporter": "python",
   "pygments_lexer": "ipython3",
   "version": "3.9.12"
  }
 },
 "nbformat": 4,
 "nbformat_minor": 5
}
