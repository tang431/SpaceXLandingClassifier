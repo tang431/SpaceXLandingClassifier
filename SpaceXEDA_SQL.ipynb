{
 "cells": [
  {
   "cell_type": "code",
   "execution_count": 1,
   "id": "7ea6ab3e",
   "metadata": {},
   "outputs": [],
   "source": [
    "import csv, sqlite3\n",
    "\n",
    "con = sqlite3.connect(\"SpaceX.db\")\n",
    "cur = con.cursor()"
   ]
  },
  {
   "cell_type": "code",
   "execution_count": 2,
   "id": "5b9ee078",
   "metadata": {},
   "outputs": [],
   "source": [
    "#this simple step creates the SPACEX table in db"
   ]
  },
  {
   "cell_type": "code",
   "execution_count": 3,
   "id": "798d6dba",
   "metadata": {},
   "outputs": [
    {
     "data": {
      "text/plain": [
       "168"
      ]
     },
     "execution_count": 3,
     "metadata": {},
     "output_type": "execute_result"
    }
   ],
   "source": [
    "import pandas as pd\n",
    "df = pd.read_csv(r\"C:\\Users\\infop\\OneDrive\\Desktop\\ML_lab screenshots\\spacex_final_dataset.csv\")\n",
    "df.to_sql(\"SPACEXTBL\", con, if_exists='replace', index=False,method=\"multi\")\n"
   ]
  },
  {
   "cell_type": "code",
   "execution_count": 4,
   "id": "b187cc09",
   "metadata": {},
   "outputs": [],
   "source": [
    "%load_ext sql"
   ]
  },
  {
   "cell_type": "code",
   "execution_count": 5,
   "id": "54e41d7d",
   "metadata": {},
   "outputs": [],
   "source": [
    "%sql sqlite:///SpaceX.db"
   ]
  },
  {
   "cell_type": "code",
   "execution_count": 6,
   "id": "461335fb",
   "metadata": {},
   "outputs": [
    {
     "name": "stdout",
     "output_type": "stream",
     "text": [
      " * sqlite:///SpaceX.db\n",
      "Done.\n"
     ]
    },
    {
     "data": {
      "text/html": [
       "<table>\n",
       "    <thead>\n",
       "        <tr>\n",
       "            <th>LaunchSite</th>\n",
       "        </tr>\n",
       "    </thead>\n",
       "    <tbody>\n",
       "        <tr>\n",
       "            <td>Cape Canaveral</td>\n",
       "        </tr>\n",
       "        <tr>\n",
       "            <td>Vandenberg AF Base</td>\n",
       "        </tr>\n",
       "        <tr>\n",
       "            <td>Kennedy Space Center</td>\n",
       "        </tr>\n",
       "    </tbody>\n",
       "</table>"
      ],
      "text/plain": [
       "[('Cape Canaveral',), ('Vandenberg AF Base',), ('Kennedy Space Center',)]"
      ]
     },
     "execution_count": 6,
     "metadata": {},
     "output_type": "execute_result"
    }
   ],
   "source": [
    "#find all names of unique launch sites in set\n",
    "%sql SELECT Distinct(LaunchSite) FROM SPACEXTBL;"
   ]
  },
  {
   "cell_type": "code",
   "execution_count": 18,
   "id": "f19d8e4e",
   "metadata": {},
   "outputs": [
    {
     "name": "stdout",
     "output_type": "stream",
     "text": [
      " * sqlite:///SpaceX.db\n",
      "Done.\n"
     ]
    },
    {
     "data": {
      "text/html": [
       "<table>\n",
       "    <thead>\n",
       "        <tr>\n",
       "            <th>FlightNumber</th>\n",
       "            <th>Date</th>\n",
       "            <th>Customer</th>\n",
       "            <th>Booster</th>\n",
       "            <th>Version_Booster</th>\n",
       "            <th>Payload</th>\n",
       "            <th>PayloadMass</th>\n",
       "            <th>LaunchSite</th>\n",
       "            <th>Orbit</th>\n",
       "            <th>Flights</th>\n",
       "            <th>ReusedCount</th>\n",
       "            <th>Reused</th>\n",
       "            <th>GridFins</th>\n",
       "            <th>Legs</th>\n",
       "            <th>Longitude</th>\n",
       "            <th>Latitude</th>\n",
       "            <th>Outcome</th>\n",
       "            <th>Booster_Landing</th>\n",
       "            <th>Class_verification</th>\n",
       "            <th>Class</th>\n",
       "            <th>Failure</th>\n",
       "        </tr>\n",
       "    </thead>\n",
       "    <tbody>\n",
       "        <tr>\n",
       "            <td>6</td>\n",
       "            <td>2010-06-04</td>\n",
       "            <td>SpaceX</td>\n",
       "            <td>Falcon 9</td>\n",
       "            <td>F9 v1.0 </td>\n",
       "            <td>Dragon Spacecraft Qualification Unit</td>\n",
       "            <td>8191</td>\n",
       "            <td>Cape Canaveral</td>\n",
       "            <td>LEO</td>\n",
       "            <td>1</td>\n",
       "            <td>0</td>\n",
       "            <td>0</td>\n",
       "            <td>0</td>\n",
       "            <td>0</td>\n",
       "            <td>-80.577366</td>\n",
       "            <td>28.5618571</td>\n",
       "            <td>Failure (None)</td>\n",
       "            <td>Failure</td>\n",
       "            <td>0.0</td>\n",
       "            <td>0</td>\n",
       "            <td>1</td>\n",
       "        </tr>\n",
       "        <tr>\n",
       "            <td>8</td>\n",
       "            <td>2012-05-22</td>\n",
       "            <td>NASA</td>\n",
       "            <td>Falcon 9</td>\n",
       "            <td>F9 v1.0 </td>\n",
       "            <td>SpaceX COTS Demo Flight 2</td>\n",
       "            <td>525</td>\n",
       "            <td>Cape Canaveral</td>\n",
       "            <td>LEO</td>\n",
       "            <td>1</td>\n",
       "            <td>0</td>\n",
       "            <td>0</td>\n",
       "            <td>0</td>\n",
       "            <td>0</td>\n",
       "            <td>-80.577366</td>\n",
       "            <td>28.5618571</td>\n",
       "            <td>Failure (None)</td>\n",
       "            <td>No attempt<br></td>\n",
       "            <td>0.0</td>\n",
       "            <td>0</td>\n",
       "            <td>1</td>\n",
       "        </tr>\n",
       "        <tr>\n",
       "            <td>10</td>\n",
       "            <td>2013-03-01</td>\n",
       "            <td>NASA</td>\n",
       "            <td>Falcon 9</td>\n",
       "            <td>F9 v1.0 </td>\n",
       "            <td>SpaceX CRS-2</td>\n",
       "            <td>677</td>\n",
       "            <td>Cape Canaveral</td>\n",
       "            <td>ISS</td>\n",
       "            <td>1</td>\n",
       "            <td>0</td>\n",
       "            <td>0</td>\n",
       "            <td>0</td>\n",
       "            <td>0</td>\n",
       "            <td>-80.577366</td>\n",
       "            <td>28.5618571</td>\n",
       "            <td>Failure (None)</td>\n",
       "            <td>No attempt<br></td>\n",
       "            <td>0.0</td>\n",
       "            <td>0</td>\n",
       "            <td>1</td>\n",
       "        </tr>\n",
       "        <tr>\n",
       "            <td>12</td>\n",
       "            <td>2013-12-03</td>\n",
       "            <td>SES</td>\n",
       "            <td>Falcon 9</td>\n",
       "            <td>F9 v1.1</td>\n",
       "            <td>SES-8</td>\n",
       "            <td>3170</td>\n",
       "            <td>Cape Canaveral</td>\n",
       "            <td>GTO</td>\n",
       "            <td>1</td>\n",
       "            <td>0</td>\n",
       "            <td>0</td>\n",
       "            <td>0</td>\n",
       "            <td>0</td>\n",
       "            <td>-80.577366</td>\n",
       "            <td>28.5618571</td>\n",
       "            <td>Failure (None)</td>\n",
       "            <td>No attempt</td>\n",
       "            <td>0.0</td>\n",
       "            <td>0</td>\n",
       "            <td>1</td>\n",
       "        </tr>\n",
       "        <tr>\n",
       "            <td>13</td>\n",
       "            <td>2014-01-06</td>\n",
       "            <td>Thaicom</td>\n",
       "            <td>Falcon 9</td>\n",
       "            <td>F9 v1.1</td>\n",
       "            <td>Thaicom 6</td>\n",
       "            <td>3325</td>\n",
       "            <td>Cape Canaveral</td>\n",
       "            <td>GTO</td>\n",
       "            <td>1</td>\n",
       "            <td>0</td>\n",
       "            <td>0</td>\n",
       "            <td>0</td>\n",
       "            <td>0</td>\n",
       "            <td>-80.577366</td>\n",
       "            <td>28.5618571</td>\n",
       "            <td>Failure (None)</td>\n",
       "            <td>No attempt</td>\n",
       "            <td>0.0</td>\n",
       "            <td>0</td>\n",
       "            <td>1</td>\n",
       "        </tr>\n",
       "    </tbody>\n",
       "</table>"
      ],
      "text/plain": [
       "[(6, '2010-06-04', 'SpaceX', 'Falcon 9', 'F9 v1.0 ', 'Dragon Spacecraft Qualification Unit', 8191, 'Cape Canaveral', 'LEO', 1, 0, 0, 0, 0, -80.577366, 28.5618571, 'Failure (None)', 'Failure', 0.0, 0, 1),\n",
       " (8, '2012-05-22', 'NASA', 'Falcon 9', 'F9 v1.0 ', 'SpaceX COTS Demo Flight 2', 525, 'Cape Canaveral', 'LEO', 1, 0, 0, 0, 0, -80.577366, 28.5618571, 'Failure (None)', 'No attempt\\n', 0.0, 0, 1),\n",
       " (10, '2013-03-01', 'NASA', 'Falcon 9', 'F9 v1.0 ', 'SpaceX CRS-2', 677, 'Cape Canaveral', 'ISS', 1, 0, 0, 0, 0, -80.577366, 28.5618571, 'Failure (None)', 'No attempt\\n', 0.0, 0, 1),\n",
       " (12, '2013-12-03', 'SES', 'Falcon 9', 'F9 v1.1', 'SES-8', 3170, 'Cape Canaveral', 'GTO', 1, 0, 0, 0, 0, -80.577366, 28.5618571, 'Failure (None)', 'No attempt', 0.0, 0, 1),\n",
       " (13, '2014-01-06', 'Thaicom', 'Falcon 9', 'F9 v1.1', 'Thaicom 6', 3325, 'Cape Canaveral', 'GTO', 1, 0, 0, 0, 0, -80.577366, 28.5618571, 'Failure (None)', 'No attempt', 0.0, 0, 1)]"
      ]
     },
     "execution_count": 18,
     "metadata": {},
     "output_type": "execute_result"
    }
   ],
   "source": [
    "#find 5 records with launch sites starting with \"CCA\"\n",
    "%sql SELECT * FROM SPACEXTBL\\\n",
    "    WHERE LaunchSite LIKE 'Cape Canaveral' LIMIT 5;"
   ]
  },
  {
   "cell_type": "code",
   "execution_count": 8,
   "id": "226e7b5f",
   "metadata": {},
   "outputs": [
    {
     "name": "stdout",
     "output_type": "stream",
     "text": [
      " * sqlite:///SpaceX.db\n",
      "Done.\n"
     ]
    },
    {
     "data": {
      "text/html": [
       "<table>\n",
       "    <thead>\n",
       "        <tr>\n",
       "            <th>sum(PayloadMass)</th>\n",
       "        </tr>\n",
       "    </thead>\n",
       "    <tbody>\n",
       "        <tr>\n",
       "            <td>157093</td>\n",
       "        </tr>\n",
       "    </tbody>\n",
       "</table>"
      ],
      "text/plain": [
       "[(157093,)]"
      ]
     },
     "execution_count": 8,
     "metadata": {},
     "output_type": "execute_result"
    }
   ],
   "source": [
    "#Calculate the total payload mass carried for NASA\n",
    "%sql SELECT sum(PayloadMass) FROM SPACEXTBL\\\n",
    "    WHERE Customer = 'NASA';"
   ]
  },
  {
   "cell_type": "code",
   "execution_count": 9,
   "id": "0501f54e",
   "metadata": {},
   "outputs": [
    {
     "name": "stdout",
     "output_type": "stream",
     "text": [
      " * sqlite:///SpaceX.db\n",
      "Done.\n"
     ]
    },
    {
     "data": {
      "text/html": [
       "<table>\n",
       "    <thead>\n",
       "        <tr>\n",
       "            <th>avg(PayloadMass)</th>\n",
       "        </tr>\n",
       "    </thead>\n",
       "    <tbody>\n",
       "        <tr>\n",
       "            <td>2928.4</td>\n",
       "        </tr>\n",
       "    </tbody>\n",
       "</table>"
      ],
      "text/plain": [
       "[(2928.4,)]"
      ]
     },
     "execution_count": 9,
     "metadata": {},
     "output_type": "execute_result"
    }
   ],
   "source": [
    "#Calculate average payload mass by booster version 'F9 v1.1'\n",
    "%sql SELECT avg(PayloadMass) FROM SPACEXTBL\\\n",
    "    WHERE Version_Booster = 'F9 v1.1';\n"
   ]
  },
  {
   "cell_type": "code",
   "execution_count": 20,
   "id": "f75bfe47",
   "metadata": {
    "scrolled": true
   },
   "outputs": [
    {
     "name": "stdout",
     "output_type": "stream",
     "text": [
      " * sqlite:///SpaceX.db\n",
      "Done.\n"
     ]
    },
    {
     "data": {
      "text/html": [
       "<table>\n",
       "    <thead>\n",
       "        <tr>\n",
       "            <th>min(Date)</th>\n",
       "        </tr>\n",
       "    </thead>\n",
       "    <tbody>\n",
       "        <tr>\n",
       "            <td>2015-12-22</td>\n",
       "        </tr>\n",
       "    </tbody>\n",
       "</table>"
      ],
      "text/plain": [
       "[('2015-12-22',)]"
      ]
     },
     "execution_count": 20,
     "metadata": {},
     "output_type": "execute_result"
    }
   ],
   "source": [
    "#Find the earliest date that a ground landing was successful\n",
    "%sql SELECT min(Date) FROM SPACEXTBL\\\n",
    "    WHERE Outcome = 'Success (Ground Pad)';\n"
   ]
  },
  {
   "cell_type": "code",
   "execution_count": 11,
   "id": "fb9a3e37",
   "metadata": {},
   "outputs": [
    {
     "name": "stdout",
     "output_type": "stream",
     "text": [
      " * sqlite:///SpaceX.db\n",
      "Done.\n"
     ]
    },
    {
     "data": {
      "text/html": [
       "<table>\n",
       "    <thead>\n",
       "        <tr>\n",
       "            <th>Version_Booster</th>\n",
       "        </tr>\n",
       "    </thead>\n",
       "    <tbody>\n",
       "        <tr>\n",
       "            <td>F9 v1.1</td>\n",
       "        </tr>\n",
       "        <tr>\n",
       "            <td>F9 v1.1B1011</td>\n",
       "        </tr>\n",
       "        <tr>\n",
       "            <td>F9 v1.1B1016</td>\n",
       "        </tr>\n",
       "        <tr>\n",
       "            <td>F9 FTB1020</td>\n",
       "        </tr>\n",
       "        <tr>\n",
       "            <td>F9 FTB1022</td>\n",
       "        </tr>\n",
       "        <tr>\n",
       "            <td>F9 FTB1026</td>\n",
       "        </tr>\n",
       "        <tr>\n",
       "            <td>F9 FT B1028</td>\n",
       "        </tr>\n",
       "        <tr>\n",
       "            <td>F9 FTB1030</td>\n",
       "        </tr>\n",
       "        <tr>\n",
       "            <td>F9 FT♺</td>\n",
       "        </tr>\n",
       "        <tr>\n",
       "            <td>F9 B4B1040.1</td>\n",
       "        </tr>\n",
       "        <tr>\n",
       "            <td>F9 FTB1031.2</td>\n",
       "        </tr>\n",
       "        <tr>\n",
       "            <td>F9 FTB1032.2</td>\n",
       "        </tr>\n",
       "        <tr>\n",
       "            <td>F9 B4B1040.2</td>\n",
       "        </tr>\n",
       "        <tr>\n",
       "            <td>F9 B5B1046.2</td>\n",
       "        </tr>\n",
       "        <tr>\n",
       "            <td>F9 B5B1054</td>\n",
       "        </tr>\n",
       "        <tr>\n",
       "            <td>F9 B5B1059.1</td>\n",
       "        </tr>\n",
       "    </tbody>\n",
       "</table>"
      ],
      "text/plain": [
       "[('F9 v1.1',),\n",
       " ('F9 v1.1B1011',),\n",
       " ('F9 v1.1B1016',),\n",
       " ('F9 FTB1020',),\n",
       " ('F9 FTB1022',),\n",
       " ('F9 FTB1026',),\n",
       " ('F9 FT B1028',),\n",
       " ('F9 FTB1030',),\n",
       " ('F9 FT♺',),\n",
       " ('F9 B4B1040.1',),\n",
       " ('F9 FTB1031.2',),\n",
       " ('F9 FTB1032.2',),\n",
       " ('F9 B4B1040.2',),\n",
       " ('F9 B5B1046.2',),\n",
       " ('F9 B5B1054',),\n",
       " ('F9 B5B1059.1',)]"
      ]
     },
     "execution_count": 11,
     "metadata": {},
     "output_type": "execute_result"
    }
   ],
   "source": [
    "#List the names of boosters which have successfully landed on drone ship and had payload mass greater than 4000 but less than 6000\n",
    "%sql SELECT Distinct(Version_Booster) FROM SPACEXTBL\\\n",
    "    WHERE PayloadMass >4000 and PayloadMass <6000;\n"
   ]
  },
  {
   "cell_type": "code",
   "execution_count": 21,
   "id": "b2a10c63",
   "metadata": {
    "scrolled": false
   },
   "outputs": [
    {
     "name": "stdout",
     "output_type": "stream",
     "text": [
      " * sqlite:///SpaceX.db\n",
      "Done.\n"
     ]
    },
    {
     "data": {
      "text/html": [
       "<table>\n",
       "    <thead>\n",
       "        <tr>\n",
       "            <th>num_success</th>\n",
       "            <th>num_failure</th>\n",
       "        </tr>\n",
       "    </thead>\n",
       "    <tbody>\n",
       "        <tr>\n",
       "            <td>133</td>\n",
       "            <td>35</td>\n",
       "        </tr>\n",
       "    </tbody>\n",
       "</table>"
      ],
      "text/plain": [
       "[(133, 35)]"
      ]
     },
     "execution_count": 21,
     "metadata": {},
     "output_type": "execute_result"
    }
   ],
   "source": [
    "#Calculate the total number of successful and failure mission outcomes\n",
    "%sql SELECT sum(Class) as num_success, sum(Failure) as num_failure FROM SPACEXTBL;"
   ]
  },
  {
   "cell_type": "code",
   "execution_count": null,
   "id": "d841ce68",
   "metadata": {},
   "outputs": [],
   "source": []
  },
  {
   "cell_type": "code",
   "execution_count": 13,
   "id": "de99389b",
   "metadata": {},
   "outputs": [
    {
     "name": "stdout",
     "output_type": "stream",
     "text": [
      " * sqlite:///SpaceX.db\n",
      "Done.\n"
     ]
    },
    {
     "data": {
      "text/html": [
       "<table>\n",
       "    <thead>\n",
       "        <tr>\n",
       "            <th>Version_Booster</th>\n",
       "            <th>max_PayloadMass</th>\n",
       "        </tr>\n",
       "    </thead>\n",
       "    <tbody>\n",
       "        <tr>\n",
       "            <td>F9 B5</td>\n",
       "            <td>15600</td>\n",
       "        </tr>\n",
       "        <tr>\n",
       "            <td>F9 B5B1049.10</td>\n",
       "            <td>15600</td>\n",
       "        </tr>\n",
       "        <tr>\n",
       "            <td>F9 B5B1049.6</td>\n",
       "            <td>15600</td>\n",
       "        </tr>\n",
       "        <tr>\n",
       "            <td>F9 B5B1049.7</td>\n",
       "            <td>15600</td>\n",
       "        </tr>\n",
       "        <tr>\n",
       "            <td>F9 B5B1049.8</td>\n",
       "            <td>15600</td>\n",
       "        </tr>\n",
       "        <tr>\n",
       "            <td>F9 B5B1049.9</td>\n",
       "            <td>15600</td>\n",
       "        </tr>\n",
       "        <tr>\n",
       "            <td>F9 B5B1051.10</td>\n",
       "            <td>15600</td>\n",
       "        </tr>\n",
       "        <tr>\n",
       "            <td>F9 B5B1051.6</td>\n",
       "            <td>15600</td>\n",
       "        </tr>\n",
       "        <tr>\n",
       "            <td>F9 B5B1051.8</td>\n",
       "            <td>15600</td>\n",
       "        </tr>\n",
       "        <tr>\n",
       "            <td>F9 B5B1058.3</td>\n",
       "            <td>15600</td>\n",
       "        </tr>\n",
       "        <tr>\n",
       "            <td>F9 B5B1058.6</td>\n",
       "            <td>15600</td>\n",
       "        </tr>\n",
       "        <tr>\n",
       "            <td>F9 B5B1060.2</td>\n",
       "            <td>15600</td>\n",
       "        </tr>\n",
       "        <tr>\n",
       "            <td>F9 B5B1060.5</td>\n",
       "            <td>15600</td>\n",
       "        </tr>\n",
       "        <tr>\n",
       "            <td>F9 B5B1060.6</td>\n",
       "            <td>15600</td>\n",
       "        </tr>\n",
       "        <tr>\n",
       "            <td>F9 B5B1060.7</td>\n",
       "            <td>15600</td>\n",
       "        </tr>\n",
       "    </tbody>\n",
       "</table>"
      ],
      "text/plain": [
       "[('F9 B5', 15600),\n",
       " ('F9 B5B1049.10', 15600),\n",
       " ('F9 B5B1049.6', 15600),\n",
       " ('F9 B5B1049.7', 15600),\n",
       " ('F9 B5B1049.8', 15600),\n",
       " ('F9 B5B1049.9', 15600),\n",
       " ('F9 B5B1051.10', 15600),\n",
       " ('F9 B5B1051.6', 15600),\n",
       " ('F9 B5B1051.8', 15600),\n",
       " ('F9 B5B1058.3', 15600),\n",
       " ('F9 B5B1058.6', 15600),\n",
       " ('F9 B5B1060.2', 15600),\n",
       " ('F9 B5B1060.5', 15600),\n",
       " ('F9 B5B1060.6', 15600),\n",
       " ('F9 B5B1060.7', 15600)]"
      ]
     },
     "execution_count": 13,
     "metadata": {},
     "output_type": "execute_result"
    }
   ],
   "source": [
    "#List the names of the booster which have carried the maximum payload mass\n",
    "%sql SELECT Distinct(Version_Booster), max(PayloadMass) as max_PayloadMass FROM SPACEXTBL\\\n",
    "        Group By Version_Booster\\\n",
    "        Having max_PayloadMass = 15600;"
   ]
  },
  {
   "cell_type": "code",
   "execution_count": 14,
   "id": "22756002",
   "metadata": {},
   "outputs": [
    {
     "name": "stdout",
     "output_type": "stream",
     "text": [
      " * sqlite:///SpaceX.db\n",
      "Done.\n"
     ]
    },
    {
     "data": {
      "text/html": [
       "<table>\n",
       "    <thead>\n",
       "        <tr>\n",
       "            <th>Version_Booster</th>\n",
       "            <th>max_PayloadMass</th>\n",
       "        </tr>\n",
       "    </thead>\n",
       "    <tbody>\n",
       "        <tr>\n",
       "            <td>F9 B5</td>\n",
       "            <td>15600</td>\n",
       "        </tr>\n",
       "        <tr>\n",
       "            <td>F9 B5B1049.10</td>\n",
       "            <td>15600</td>\n",
       "        </tr>\n",
       "        <tr>\n",
       "            <td>F9 B5B1049.6</td>\n",
       "            <td>15600</td>\n",
       "        </tr>\n",
       "        <tr>\n",
       "            <td>F9 B5B1049.7</td>\n",
       "            <td>15600</td>\n",
       "        </tr>\n",
       "        <tr>\n",
       "            <td>F9 B5B1049.8</td>\n",
       "            <td>15600</td>\n",
       "        </tr>\n",
       "        <tr>\n",
       "            <td>F9 B5B1049.9</td>\n",
       "            <td>15600</td>\n",
       "        </tr>\n",
       "        <tr>\n",
       "            <td>F9 B5B1051.10</td>\n",
       "            <td>15600</td>\n",
       "        </tr>\n",
       "        <tr>\n",
       "            <td>F9 B5B1051.6</td>\n",
       "            <td>15600</td>\n",
       "        </tr>\n",
       "        <tr>\n",
       "            <td>F9 B5B1051.8</td>\n",
       "            <td>15600</td>\n",
       "        </tr>\n",
       "        <tr>\n",
       "            <td>F9 B5B1058.3</td>\n",
       "            <td>15600</td>\n",
       "        </tr>\n",
       "        <tr>\n",
       "            <td>F9 B5B1058.6</td>\n",
       "            <td>15600</td>\n",
       "        </tr>\n",
       "        <tr>\n",
       "            <td>F9 B5B1060.2</td>\n",
       "            <td>15600</td>\n",
       "        </tr>\n",
       "        <tr>\n",
       "            <td>F9 B5B1060.5</td>\n",
       "            <td>15600</td>\n",
       "        </tr>\n",
       "        <tr>\n",
       "            <td>F9 B5B1060.6</td>\n",
       "            <td>15600</td>\n",
       "        </tr>\n",
       "        <tr>\n",
       "            <td>F9 B5B1060.7</td>\n",
       "            <td>15600</td>\n",
       "        </tr>\n",
       "    </tbody>\n",
       "</table>"
      ],
      "text/plain": [
       "[('F9 B5', 15600),\n",
       " ('F9 B5B1049.10', 15600),\n",
       " ('F9 B5B1049.6', 15600),\n",
       " ('F9 B5B1049.7', 15600),\n",
       " ('F9 B5B1049.8', 15600),\n",
       " ('F9 B5B1049.9', 15600),\n",
       " ('F9 B5B1051.10', 15600),\n",
       " ('F9 B5B1051.6', 15600),\n",
       " ('F9 B5B1051.8', 15600),\n",
       " ('F9 B5B1058.3', 15600),\n",
       " ('F9 B5B1058.6', 15600),\n",
       " ('F9 B5B1060.2', 15600),\n",
       " ('F9 B5B1060.5', 15600),\n",
       " ('F9 B5B1060.6', 15600),\n",
       " ('F9 B5B1060.7', 15600)]"
      ]
     },
     "execution_count": 14,
     "metadata": {},
     "output_type": "execute_result"
    }
   ],
   "source": [
    "%sql SELECT Distinct(Version_Booster), max(PayloadMass) as max_PayloadMass FROM SPACEXTBL\\\n",
    "        Group by Version_Booster\\\n",
    "        Having PayloadMass = (SELECT max(PayloadMass) as max_PayloadMass FROM SPACEXTBL);"
   ]
  },
  {
   "cell_type": "code",
   "execution_count": 22,
   "id": "942bbf22",
   "metadata": {},
   "outputs": [
    {
     "name": "stdout",
     "output_type": "stream",
     "text": [
      " * sqlite:///SpaceX.db\n",
      "Done.\n"
     ]
    },
    {
     "data": {
      "text/html": [
       "<table>\n",
       "    <thead>\n",
       "        <tr>\n",
       "            <th>Date</th>\n",
       "            <th>Outcome</th>\n",
       "            <th>Version_Booster</th>\n",
       "            <th>LaunchSite</th>\n",
       "        </tr>\n",
       "    </thead>\n",
       "    <tbody>\n",
       "        <tr>\n",
       "            <td>2015-01-10</td>\n",
       "            <td>Failure (Drone Ship)</td>\n",
       "            <td>F9 v1.1B1012</td>\n",
       "            <td>Cape Canaveral</td>\n",
       "        </tr>\n",
       "        <tr>\n",
       "            <td>2015-04-14</td>\n",
       "            <td>Failure (Drone Ship)</td>\n",
       "            <td>F9 v1.1B1015</td>\n",
       "            <td>Cape Canaveral</td>\n",
       "        </tr>\n",
       "        <tr>\n",
       "            <td>2015-06-28</td>\n",
       "            <td>Failure (Drone Ship)</td>\n",
       "            <td>F9 v1.1B1018</td>\n",
       "            <td>Cape Canaveral</td>\n",
       "        </tr>\n",
       "    </tbody>\n",
       "</table>"
      ],
      "text/plain": [
       "[('2015-01-10', 'Failure (Drone Ship)', 'F9 v1.1B1012', 'Cape Canaveral'),\n",
       " ('2015-04-14', 'Failure (Drone Ship)', 'F9 v1.1B1015', 'Cape Canaveral'),\n",
       " ('2015-06-28', 'Failure (Drone Ship)', 'F9 v1.1B1018', 'Cape Canaveral')]"
      ]
     },
     "execution_count": 22,
     "metadata": {},
     "output_type": "execute_result"
    }
   ],
   "source": [
    "#List the failed landing_outcomes in drone ship, their booster versions, and launch site names for in year 2015\n",
    "%sql SELECT Date, Outcome, Version_Booster, LaunchSite FROM SPACEXTBL\\\n",
    "        where Date like '2015%' and (Outcome like 'Failure (Drone Ship)');"
   ]
  },
  {
   "cell_type": "code",
   "execution_count": 16,
   "id": "cbe55820",
   "metadata": {},
   "outputs": [
    {
     "name": "stdout",
     "output_type": "stream",
     "text": [
      " * sqlite:///SpaceX.db\n",
      "Done.\n"
     ]
    },
    {
     "data": {
      "text/html": [
       "<table>\n",
       "    <thead>\n",
       "        <tr>\n",
       "            <th>Outcome</th>\n",
       "            <th>Outcome_Cnt</th>\n",
       "        </tr>\n",
       "    </thead>\n",
       "    <tbody>\n",
       "        <tr>\n",
       "            <td>Success (Drone Ship)</td>\n",
       "            <td>109</td>\n",
       "        </tr>\n",
       "        <tr>\n",
       "            <td>Success (Ground Pad)</td>\n",
       "            <td>23</td>\n",
       "        </tr>\n",
       "        <tr>\n",
       "            <td>Failure (None)</td>\n",
       "            <td>19</td>\n",
       "        </tr>\n",
       "        <tr>\n",
       "            <td>Failure (Drone Ship)</td>\n",
       "            <td>9</td>\n",
       "        </tr>\n",
       "        <tr>\n",
       "            <td>Failure (Ocean)</td>\n",
       "            <td>6</td>\n",
       "        </tr>\n",
       "    </tbody>\n",
       "</table>"
      ],
      "text/plain": [
       "[('Success (Drone Ship)', 109),\n",
       " ('Success (Ground Pad)', 23),\n",
       " ('Failure (None)', 19),\n",
       " ('Failure (Drone Ship)', 9),\n",
       " ('Failure (Ocean)', 6)]"
      ]
     },
     "execution_count": 16,
     "metadata": {},
     "output_type": "execute_result"
    }
   ],
   "source": [
    "#Rank the count of landing outcomes (such as Failure (drone ship) or Success (ground pad)) between the date 2010-06-04 and 2017-03-20, in descending order\n",
    "%sql SELECT Outcome, Count(Outcome) as Outcome_Cnt FROM SPACEXTBL\\\n",
    "        Group by Outcome\\\n",
    "        Having Date Between '2010-06-04' and '2017-03-20'\\\n",
    "        Order by Outcome_Cnt Desc;"
   ]
  },
  {
   "cell_type": "code",
   "execution_count": 17,
   "id": "79a23576",
   "metadata": {},
   "outputs": [
    {
     "name": "stdout",
     "output_type": "stream",
     "text": [
      " * sqlite:///SpaceX.db\n",
      "Done.\n"
     ]
    },
    {
     "data": {
      "text/html": [
       "<table>\n",
       "    <thead>\n",
       "        <tr>\n",
       "            <th>FlightNumber</th>\n",
       "            <th>Date</th>\n",
       "            <th>Customer</th>\n",
       "            <th>Booster</th>\n",
       "            <th>Version_Booster</th>\n",
       "            <th>Payload</th>\n",
       "            <th>PayloadMass</th>\n",
       "            <th>LaunchSite</th>\n",
       "            <th>Orbit</th>\n",
       "            <th>Flights</th>\n",
       "            <th>ReusedCount</th>\n",
       "            <th>Reused</th>\n",
       "            <th>GridFins</th>\n",
       "            <th>Legs</th>\n",
       "            <th>Longitude</th>\n",
       "            <th>Latitude</th>\n",
       "            <th>Outcome</th>\n",
       "            <th>Booster_Landing</th>\n",
       "            <th>Class_verification</th>\n",
       "            <th>Class</th>\n",
       "            <th>Failure</th>\n",
       "        </tr>\n",
       "    </thead>\n",
       "    <tbody>\n",
       "        <tr>\n",
       "            <td>25</td>\n",
       "            <td>2015-12-22</td>\n",
       "            <td>Orbcomm</td>\n",
       "            <td>Falcon 9</td>\n",
       "            <td>F9 FTB1019</td>\n",
       "            <td>Orbcomm-OG2</td>\n",
       "            <td>2034</td>\n",
       "            <td>Cape Canaveral</td>\n",
       "            <td>LEO</td>\n",
       "            <td>1</td>\n",
       "            <td>0</td>\n",
       "            <td>0</td>\n",
       "            <td>1</td>\n",
       "            <td>1</td>\n",
       "            <td>-80.577366</td>\n",
       "            <td>28.5618571</td>\n",
       "            <td>Success (Ground Pad)</td>\n",
       "            <td>Success</td>\n",
       "            <td>1.0</td>\n",
       "            <td>1</td>\n",
       "            <td>0</td>\n",
       "        </tr>\n",
       "    </tbody>\n",
       "</table>"
      ],
      "text/plain": [
       "[(25, '2015-12-22', 'Orbcomm', 'Falcon 9', 'F9 FTB1019', 'Orbcomm-OG2', 2034, 'Cape Canaveral', 'LEO', 1, 0, 0, 1, 1, -80.577366, 28.5618571, 'Success (Ground Pad)', 'Success', 1.0, 1, 0)]"
      ]
     },
     "execution_count": 17,
     "metadata": {},
     "output_type": "execute_result"
    }
   ],
   "source": [
    "%sql SELECT * FROM SPACEXTBL\\\n",
    "    where Date = '2015-12-22';"
   ]
  },
  {
   "cell_type": "code",
   "execution_count": null,
   "id": "553bc85b",
   "metadata": {},
   "outputs": [],
   "source": []
  }
 ],
 "metadata": {
  "kernelspec": {
   "display_name": "Python 3 (ipykernel)",
   "language": "python",
   "name": "python3"
  },
  "language_info": {
   "codemirror_mode": {
    "name": "ipython",
    "version": 3
   },
   "file_extension": ".py",
   "mimetype": "text/x-python",
   "name": "python",
   "nbconvert_exporter": "python",
   "pygments_lexer": "ipython3",
   "version": "3.9.12"
  }
 },
 "nbformat": 4,
 "nbformat_minor": 5
}
